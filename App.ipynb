{
 "cells": [
  {
   "cell_type": "code",
   "execution_count": null,
   "metadata": {},
   "outputs": [],
   "source": [
    "import os\n",
    "if os.name != 'nt' :\n",
    "    import resource\n",
    "import pandas as pd\n",
    "import ipywidgets as widgets\n",
    "from IPython.display import display\n",
    "from App.common import V, init_globals, loading_bar, myfigures, get_query_list, mp\n",
    "from App import tab1, tab2, tab3, tab4, tab5, tab6\n",
    "from dmyplant2 import cred, MyPlant, Engine, cplotdef, get_size"
   ]
  },
  {
   "cell_type": "markdown",
   "metadata": {},
   "source": [
    "### Statemachine Engine Analysis ©2022 Dieter Chvatal"
   ]
  },
  {
   "cell_type": "code",
   "execution_count": null,
   "metadata": {},
   "outputs": [],
   "source": [
    "#########################################\n",
    "# tabs\n",
    "#########################################\n",
    "tabs_out = widgets.Output()\n",
    "tabs = widgets.Tab()\n",
    "tabs.children = [tab1._tab, tab2._tab, tab3._tab, tab4._tab, tab5._tab, tab6._tab]\n",
    "tabs.set_title(0,'1. select Engine')\n",
    "tabs.set_title(1,'2. messages & FSM')\n",
    "tabs.set_title(2,'3. Filter Results')\n",
    "tabs.set_title(3,'4. Start Plots')\n",
    "tabs.set_title(4,'5. settings')\n",
    "tabs.set_title(5,'Playground')\n",
    "\n",
    "#@tabs_out.capture(clear_output=False)\n",
    "def tabs_cb(*args):\n",
    "    if tabs.selected_index >= 4:\n",
    "        return\n",
    "    if tabs.selected_index == 0:\n",
    "            init_globals()\n",
    "            #tab1.sel.value = '-'\n",
    "            #tab1.selno.value = '-'\n",
    "            tab1.tdd.value = ''\n",
    "            #tab1.tdd.options = V.query_list\n",
    "            #tab1.es.options = ['-']\n",
    "\n",
    "            tab2.tab2_out.clear_output()\n",
    "            tab3.tab3_out.clear_output()\n",
    "            tab4.tab4_out.clear_output()\n",
    "            tab2.b_runfsm.button_style=''\n",
    "            tab2.b_runfsm.disabled = True\n",
    "            tab2.b_loadfsm.disabled = True\n",
    "            tab2.b_loadfsm.button_style = ''\n",
    "            \n",
    "    if tabs.selected_index > 0:\n",
    "        if tab1.selno.value == '-':\n",
    "            with tab1.tab1_out:\n",
    "                tab1.tab1_out.clear_output()\n",
    "                print()\n",
    "                print('Please select an Engine first.')\n",
    "            tabs.selected_index = 0\n",
    "        else:\n",
    "            if V.e is None:\n",
    "                with tab2.tab2_out:\n",
    "                    tab2.tab2_out.clear_output()\n",
    "                    print('Please Wait ...')\n",
    "                    display(loading_bar)\n",
    "                    print('contacting MyPlant ...')\n",
    "                    V.e=Engine.from_fleet(mp, V.fleet.iloc[int(tab1.selno.value)])\n",
    "            V.lfigures = myfigures(V.e)\n",
    "            V.plotdef, V.vset = cplotdef(mp, V.lfigures)\n",
    "            tab2.el.value = tab1.sel.value\n",
    "            tab2.t1.value = pd.to_datetime(V.e['Commissioning Date'])\n",
    "            tab2.tab2_out.clear_output()\n",
    "\n",
    "        if tab1.selno.value != '-' and ((V.fsm is None) or (len(V.fsm.starts) == 0)):\n",
    "            with tab2.tab2_out:\n",
    "                tab2.tab2_out.clear_output()\n",
    "                print('Please load messages.')\n",
    "            tabs.selected_index = 1\n",
    "        if V.fsm is not None: \n",
    "            rdf = V.fsm.starts\n",
    "            if not rdf.empty:\n",
    "                if tab4.sno_slider.max < len(rdf):\n",
    "                    tab4.sno_slider.max = rdf.shape[0]-1\n",
    "\n",
    "with tab1.tab1_out:\n",
    "    tab1.tab1_out.clear_output()\n",
    "    print()\n",
    "    print('Please Lookup:')\n",
    "    print(' - Site Name')\n",
    "    print(' - Engine Type')\n",
    "    print(' - Engine Version')\n",
    "    print(' - Design Number')\n",
    "    print(' - serialNumber')\n",
    "    print(' - assetNumber')\n",
    "tabs.observe(tabs_cb, 'selected_index')\n",
    "display(widgets.VBox([tabs,tabs_out]))"
   ]
  },
  {
   "cell_type": "code",
   "execution_count": null,
   "metadata": {},
   "outputs": [],
   "source": [
    "from pprint import pprint as pp\n",
    "\n",
    "if os.name != 'nt':\n",
    "    memory = resource.getrusage(resource.RUSAGE_SELF)\n",
    "    print(f\"Script Memory Usage: {memory.ru_utime:5.1f} MB\")\n",
    "\n",
    "if V.fsm is not None:\n",
    "    print(\"\\nV.fsm:\")\n",
    "    print(\"------\")\n",
    "    print(f\"{'Size fsm in MB':>40}: {get_size(V.fsm) / (1024.0*1024.0):10.3f} MB\")\n",
    "    keys = list (V.fsm.__dict__.keys())\n",
    "    for k in keys:\n",
    "        print(f\"{k:>40}: {get_size(V.fsm.__dict__[k]) / (1024.0*1024.0):10.3f} MB\")\n",
    "\n",
    "    print(\"\\n_e:\")\n",
    "    print(\"--\")\n",
    "    print(f\"{'Size fsm._e in MB':>40}: {get_size(V.fsm._e) / (1024.0*1024.0):10.3f} MB\")\n",
    "    sshkeys = list (V.fsm._e.__dict__.keys())\n",
    "    for sshk in sshkeys:\n",
    "        print(f\"{sshk:>40}: {get_size(V.fsm._e.__dict__[sshk]) / (1024.0*1024.0):10.3f} MB\")\n",
    "\n",
    "    print(\"\\nstartstopHandler:\")\n",
    "    print(\"-----------------\")\n",
    "    print(f\"{'Size fsm.startstopHandler in MB':>40}: {get_size(V.fsm.startstopHandler) / (1024.0*1024.0):10.3f} MB\")\n",
    "    sshkeys = list (V.fsm.startstopHandler.__dict__.keys())\n",
    "    for sshk in sshkeys:\n",
    "        print(f\"{sshk:>40}: {get_size(V.fsm.startstopHandler.__dict__[sshk]) / (1024.0*1024.0):10.3f} MB\")"
   ]
  },
  {
   "cell_type": "code",
   "execution_count": null,
   "metadata": {},
   "outputs": [],
   "source": [
    "#V.fsm._messages"
   ]
  },
  {
   "cell_type": "code",
   "execution_count": null,
   "metadata": {},
   "outputs": [],
   "source": [
    "#pd.DataFrame(V.fsm.message_queue[935:937])"
   ]
  },
  {
   "cell_type": "code",
   "execution_count": null,
   "metadata": {},
   "outputs": [],
   "source": [
    "#d = V.fsm.message_queue[936:937][0]\n",
    "#d"
   ]
  },
  {
   "cell_type": "code",
   "execution_count": null,
   "metadata": {},
   "outputs": [],
   "source": [
    "#pd.DataFrame([d])"
   ]
  },
  {
   "cell_type": "code",
   "execution_count": null,
   "metadata": {},
   "outputs": [],
   "source": [
    "#V.fsm.message_queue[935]"
   ]
  },
  {
   "cell_type": "code",
   "execution_count": null,
   "metadata": {},
   "outputs": [],
   "source": [
    "#d=V.fsm.message_queue[936]\n",
    "#d['assetId'] = 114517\n",
    "#d"
   ]
  },
  {
   "cell_type": "code",
   "execution_count": null,
   "metadata": {},
   "outputs": [],
   "source": [
    "#pd.DataFrame(d, index=[0], dtype=object).T"
   ]
  }
 ],
 "metadata": {
  "hide_input": false,
  "kernelspec": {
   "display_name": "Python 3 (ipykernel)",
   "language": "python",
   "name": "python3"
  },
  "language_info": {
   "codemirror_mode": {
    "name": "ipython",
    "version": 3
   },
   "file_extension": ".py",
   "mimetype": "text/x-python",
   "name": "python",
   "nbconvert_exporter": "python",
   "pygments_lexer": "ipython3",
   "version": "3.9.7"
  },
  "varInspector": {
   "cols": {
    "lenName": 16,
    "lenType": 16,
    "lenVar": 40
   },
   "kernels_config": {
    "python": {
     "delete_cmd_postfix": "",
     "delete_cmd_prefix": "del ",
     "library": "var_list.py",
     "varRefreshCmd": "print(var_dic_list())"
    },
    "r": {
     "delete_cmd_postfix": ") ",
     "delete_cmd_prefix": "rm(",
     "library": "var_list.r",
     "varRefreshCmd": "cat(var_dic_list()) "
    }
   },
   "types_to_exclude": [
    "module",
    "function",
    "builtin_function_or_method",
    "instance",
    "_Feature"
   ],
   "window_display": false
  }
 },
 "nbformat": 4,
 "nbformat_minor": 4
}
